{
 "cells": [
  {
   "cell_type": "code",
   "execution_count": 1,
   "metadata": {},
   "outputs": [
    {
     "name": "stdout",
     "output_type": "stream",
     "text": [
      "Requirement already satisfied: requests in c:\\users\\gabriel viceraira\\appdata\\local\\packages\\pythonsoftwarefoundation.python.3.11_qbz5n2kfra8p0\\localcache\\local-packages\\python311\\site-packages (2.31.0)\n",
      "Requirement already satisfied: charset-normalizer<4,>=2 in c:\\users\\gabriel viceraira\\appdata\\local\\packages\\pythonsoftwarefoundation.python.3.11_qbz5n2kfra8p0\\localcache\\local-packages\\python311\\site-packages (from requests) (3.3.2)\n",
      "Requirement already satisfied: idna<4,>=2.5 in c:\\users\\gabriel viceraira\\appdata\\local\\packages\\pythonsoftwarefoundation.python.3.11_qbz5n2kfra8p0\\localcache\\local-packages\\python311\\site-packages (from requests) (3.6)\n",
      "Requirement already satisfied: urllib3<3,>=1.21.1 in c:\\users\\gabriel viceraira\\appdata\\local\\packages\\pythonsoftwarefoundation.python.3.11_qbz5n2kfra8p0\\localcache\\local-packages\\python311\\site-packages (from requests) (2.2.1)\n",
      "Requirement already satisfied: certifi>=2017.4.17 in c:\\users\\gabriel viceraira\\appdata\\local\\packages\\pythonsoftwarefoundation.python.3.11_qbz5n2kfra8p0\\localcache\\local-packages\\python311\\site-packages (from requests) (2024.2.2)\n",
      "Note: you may need to restart the kernel to use updated packages.\n"
     ]
    },
    {
     "name": "stderr",
     "output_type": "stream",
     "text": [
      "\n",
      "[notice] A new release of pip is available: 23.1.2 -> 24.2\n",
      "[notice] To update, run: C:\\Users\\GABRIEL VICERAIRA\\AppData\\Local\\Microsoft\\WindowsApps\\PythonSoftwareFoundation.Python.3.11_qbz5n2kfra8p0\\python.exe -m pip install --upgrade pip\n"
     ]
    },
    {
     "name": "stdout",
     "output_type": "stream",
     "text": [
      "Requirement already satisfied: beautifulsoup4 in c:\\users\\gabriel viceraira\\appdata\\local\\packages\\pythonsoftwarefoundation.python.3.11_qbz5n2kfra8p0\\localcache\\local-packages\\python311\\site-packages (4.12.3)\n",
      "Requirement already satisfied: soupsieve>1.2 in c:\\users\\gabriel viceraira\\appdata\\local\\packages\\pythonsoftwarefoundation.python.3.11_qbz5n2kfra8p0\\localcache\\local-packages\\python311\\site-packages (from beautifulsoup4) (2.5)\n",
      "Note: you may need to restart the kernel to use updated packages.\n"
     ]
    },
    {
     "name": "stderr",
     "output_type": "stream",
     "text": [
      "\n",
      "[notice] A new release of pip is available: 23.1.2 -> 24.2\n",
      "[notice] To update, run: C:\\Users\\GABRIEL VICERAIRA\\AppData\\Local\\Microsoft\\WindowsApps\\PythonSoftwareFoundation.Python.3.11_qbz5n2kfra8p0\\python.exe -m pip install --upgrade pip\n"
     ]
    },
    {
     "name": "stdout",
     "output_type": "stream",
     "text": [
      "Requirement already satisfied: pypdf2 in c:\\users\\gabriel viceraira\\appdata\\local\\packages\\pythonsoftwarefoundation.python.3.11_qbz5n2kfra8p0\\localcache\\local-packages\\python311\\site-packages (3.0.1)\n",
      "Note: you may need to restart the kernel to use updated packages.\n"
     ]
    },
    {
     "name": "stderr",
     "output_type": "stream",
     "text": [
      "\n",
      "[notice] A new release of pip is available: 23.1.2 -> 24.2\n",
      "[notice] To update, run: C:\\Users\\GABRIEL VICERAIRA\\AppData\\Local\\Microsoft\\WindowsApps\\PythonSoftwareFoundation.Python.3.11_qbz5n2kfra8p0\\python.exe -m pip install --upgrade pip\n"
     ]
    }
   ],
   "source": [
    "#Scrapping data from OJK\n",
    "#Install library first\n",
    "%pip install requests\n",
    "%pip install beautifulsoup4\n",
    "%pip install pypdf2"
   ]
  },
  {
   "cell_type": "code",
   "execution_count": 6,
   "metadata": {},
   "outputs": [],
   "source": [
    "#Import library\n",
    "import requests\n",
    "from bs4 import BeautifulSoup\n",
    "import io\n",
    "from PyPDF2 import PdfFileReader\n",
    "import numpy as np\n"
   ]
  },
  {
   "cell_type": "code",
   "execution_count": 22,
   "metadata": {},
   "outputs": [],
   "source": [
    "# link ke halaman laporan per bulan (nanti tambahin selenium)\n",
    "def get_report_links(url, keyword, start_year, end_year):\n",
    "    report_links = []\n",
    "    page_number = 1\n",
    "    while True:\n",
    "        page_url = f\"{url}?page={page_number}\"\n",
    "        response = requests.get(page_url)\n",
    "        soup = BeautifulSoup(response.text, 'html.parser')\n",
    "        \n",
    "        # cari semua tag <a> dan concat dengan main url\n",
    "        found_links = False\n",
    "        for a_tag in soup.find_all('a', href=True):\n",
    "            link_text = a_tag.get_text().strip()\n",
    "            for year in range(start_year, end_year + 1):\n",
    "                if keyword in link_text and str(year) in link_text:\n",
    "                    main_address = \"https://ojk.go.id/\"\n",
    "                    report_links.append(main_address+a_tag['href'])\n",
    "                    found_links = True\n",
    "        \n",
    "        # cek paginasi\n",
    "        pagination_links = soup.find_all('a', class_='bluebutton')\n",
    "        next_page_exists = False\n",
    "        \n",
    "        for a_tag in pagination_links:\n",
    "            if a_tag.get_text().isdigit() and int(a_tag.get_text()) == page_number + 1:\n",
    "                next_page_exists = True\n",
    "                break\n",
    "        \n",
    "        if not next_page_exists or not found_links:\n",
    "            break\n",
    "        \n",
    "        page_number += 1\n",
    "    \n",
    "    return report_links\n",
    "\n",
    "# get link PDF dari halaman laporan bulanan\n",
    "def get_pdf_link(report_url):\n",
    "    pdf_links = []\n",
    "    response = requests.get(report_url)\n",
    "    soup = BeautifulSoup(response.text, 'html.parser')\n",
    "    \n",
    "    for a_tag in soup.find_all('a', href=True):\n",
    "        if a_tag['href'].endswith('.pdf'):\n",
    "            pdf_links.append(a_tag['href'])\n",
    "    \n",
    "    return pdf_links"
   ]
  },
  {
   "cell_type": "code",
   "execution_count": 23,
   "metadata": {},
   "outputs": [
    {
     "name": "stdout",
     "output_type": "stream",
     "text": [
      "/id/kanal/perbankan/data-dan-statistik/statistik-perbankan-indonesia/Documents/Pages/Statistik-Perbankan-Indonesia---Desember-2023/STATISTIK%20PERBANKAN%20INDONESIA%20-%20DESEMBER%202023.pdf\n",
      "/id/kanal/perbankan/data-dan-statistik/statistik-perbankan-indonesia/Documents/Pages/Statistik-Perbankan-Indonesia---November-2023/STATISTIK%20PERBANKAN%20INDONESIA%20-%20NOVEMBER%202023.pdf\n",
      "/id/kanal/perbankan/data-dan-statistik/statistik-perbankan-indonesia/Documents/Pages/Statistik-Perbankan-Indonesia---Oktober-2023/STATISTIK%20PERBANKAN%20INDONESIA%20-%20OKTOBER%202023.pdf\n",
      "/id/kanal/perbankan/data-dan-statistik/statistik-perbankan-indonesia/Documents/Pages/Statistik-Perbankan-Indonesia---September-2023/STATISTIK%20PERBANKAN%20INDONESIA%20-%20SEPTEMBER%202023.pdf\n",
      "/id/kanal/perbankan/data-dan-statistik/statistik-perbankan-indonesia/Documents/Pages/Statistik-Perbankan-Indonesia---Desember-2023/STATISTIK%20PERBANKAN%20INDONESIA%20-%20DESEMBER%202023.pdf\n",
      "/id/kanal/perbankan/data-dan-statistik/statistik-perbankan-indonesia/Documents/Pages/Statistik-Perbankan-Indonesia---November-2023/STATISTIK%20PERBANKAN%20INDONESIA%20-%20NOVEMBER%202023.pdf\n",
      "/id/kanal/perbankan/data-dan-statistik/statistik-perbankan-indonesia/Documents/Pages/Statistik-Perbankan-Indonesia---Oktober-2023/STATISTIK%20PERBANKAN%20INDONESIA%20-%20OKTOBER%202023.pdf\n",
      "/id/kanal/perbankan/data-dan-statistik/statistik-perbankan-indonesia/Documents/Pages/Statistik-Perbankan-Indonesia---September-2023/STATISTIK%20PERBANKAN%20INDONESIA%20-%20SEPTEMBER%202023.pdf\n",
      "/id/kanal/perbankan/data-dan-statistik/statistik-perbankan-indonesia/Documents/Pages/Statistik-Perbankan-Indonesia---Desember-2023/STATISTIK%20PERBANKAN%20INDONESIA%20-%20DESEMBER%202023.pdf\n",
      "/id/kanal/perbankan/data-dan-statistik/statistik-perbankan-indonesia/Documents/Pages/Statistik-Perbankan-Indonesia---November-2023/STATISTIK%20PERBANKAN%20INDONESIA%20-%20NOVEMBER%202023.pdf\n",
      "/id/kanal/perbankan/data-dan-statistik/statistik-perbankan-indonesia/Documents/Pages/Statistik-Perbankan-Indonesia---Oktober-2023/STATISTIK%20PERBANKAN%20INDONESIA%20-%20OKTOBER%202023.pdf\n",
      "/id/kanal/perbankan/data-dan-statistik/statistik-perbankan-indonesia/Documents/Pages/Statistik-Perbankan-Indonesia---September-2023/STATISTIK%20PERBANKAN%20INDONESIA%20-%20SEPTEMBER%202023.pdf\n",
      "/id/kanal/perbankan/data-dan-statistik/statistik-perbankan-indonesia/Documents/Pages/Statistik-Perbankan-Indonesia---Desember-2023/STATISTIK%20PERBANKAN%20INDONESIA%20-%20DESEMBER%202023.pdf\n",
      "/id/kanal/perbankan/data-dan-statistik/statistik-perbankan-indonesia/Documents/Pages/Statistik-Perbankan-Indonesia---November-2023/STATISTIK%20PERBANKAN%20INDONESIA%20-%20NOVEMBER%202023.pdf\n",
      "/id/kanal/perbankan/data-dan-statistik/statistik-perbankan-indonesia/Documents/Pages/Statistik-Perbankan-Indonesia---Oktober-2023/STATISTIK%20PERBANKAN%20INDONESIA%20-%20OKTOBER%202023.pdf\n",
      "/id/kanal/perbankan/data-dan-statistik/statistik-perbankan-indonesia/Documents/Pages/Statistik-Perbankan-Indonesia---September-2023/STATISTIK%20PERBANKAN%20INDONESIA%20-%20SEPTEMBER%202023.pdf\n",
      "/id/kanal/perbankan/data-dan-statistik/statistik-perbankan-indonesia/Documents/Pages/Statistik-Perbankan-Indonesia---Desember-2023/STATISTIK%20PERBANKAN%20INDONESIA%20-%20DESEMBER%202023.pdf\n",
      "/id/kanal/perbankan/data-dan-statistik/statistik-perbankan-indonesia/Documents/Pages/Statistik-Perbankan-Indonesia---November-2023/STATISTIK%20PERBANKAN%20INDONESIA%20-%20NOVEMBER%202023.pdf\n",
      "/id/kanal/perbankan/data-dan-statistik/statistik-perbankan-indonesia/Documents/Pages/Statistik-Perbankan-Indonesia---Oktober-2023/STATISTIK%20PERBANKAN%20INDONESIA%20-%20OKTOBER%202023.pdf\n",
      "/id/kanal/perbankan/data-dan-statistik/statistik-perbankan-indonesia/Documents/Pages/Statistik-Perbankan-Indonesia---September-2023/STATISTIK%20PERBANKAN%20INDONESIA%20-%20SEPTEMBER%202023.pdf\n",
      "/id/kanal/perbankan/data-dan-statistik/statistik-perbankan-indonesia/Documents/Pages/Statistik-Perbankan-Indonesia---Desember-2023/STATISTIK%20PERBANKAN%20INDONESIA%20-%20DESEMBER%202023.pdf\n",
      "/id/kanal/perbankan/data-dan-statistik/statistik-perbankan-indonesia/Documents/Pages/Statistik-Perbankan-Indonesia---November-2023/STATISTIK%20PERBANKAN%20INDONESIA%20-%20NOVEMBER%202023.pdf\n",
      "/id/kanal/perbankan/data-dan-statistik/statistik-perbankan-indonesia/Documents/Pages/Statistik-Perbankan-Indonesia---Oktober-2023/STATISTIK%20PERBANKAN%20INDONESIA%20-%20OKTOBER%202023.pdf\n",
      "/id/kanal/perbankan/data-dan-statistik/statistik-perbankan-indonesia/Documents/Pages/Statistik-Perbankan-Indonesia---September-2023/STATISTIK%20PERBANKAN%20INDONESIA%20-%20SEPTEMBER%202023.pdf\n",
      "/id/kanal/perbankan/data-dan-statistik/statistik-perbankan-indonesia/Documents/Pages/Statistik-Perbankan-Indonesia---Desember-2023/STATISTIK%20PERBANKAN%20INDONESIA%20-%20DESEMBER%202023.pdf\n",
      "/id/kanal/perbankan/data-dan-statistik/statistik-perbankan-indonesia/Documents/Pages/Statistik-Perbankan-Indonesia---November-2023/STATISTIK%20PERBANKAN%20INDONESIA%20-%20NOVEMBER%202023.pdf\n",
      "/id/kanal/perbankan/data-dan-statistik/statistik-perbankan-indonesia/Documents/Pages/Statistik-Perbankan-Indonesia---Oktober-2023/STATISTIK%20PERBANKAN%20INDONESIA%20-%20OKTOBER%202023.pdf\n",
      "/id/kanal/perbankan/data-dan-statistik/statistik-perbankan-indonesia/Documents/Pages/Statistik-Perbankan-Indonesia---September-2023/STATISTIK%20PERBANKAN%20INDONESIA%20-%20SEPTEMBER%202023.pdf\n",
      "/id/kanal/perbankan/data-dan-statistik/statistik-perbankan-indonesia/Documents/Pages/Statistik-Perbankan-Indonesia---Desember-2023/STATISTIK%20PERBANKAN%20INDONESIA%20-%20DESEMBER%202023.pdf\n",
      "/id/kanal/perbankan/data-dan-statistik/statistik-perbankan-indonesia/Documents/Pages/Statistik-Perbankan-Indonesia---November-2023/STATISTIK%20PERBANKAN%20INDONESIA%20-%20NOVEMBER%202023.pdf\n",
      "/id/kanal/perbankan/data-dan-statistik/statistik-perbankan-indonesia/Documents/Pages/Statistik-Perbankan-Indonesia---Oktober-2023/STATISTIK%20PERBANKAN%20INDONESIA%20-%20OKTOBER%202023.pdf\n",
      "/id/kanal/perbankan/data-dan-statistik/statistik-perbankan-indonesia/Documents/Pages/Statistik-Perbankan-Indonesia---September-2023/STATISTIK%20PERBANKAN%20INDONESIA%20-%20SEPTEMBER%202023.pdf\n",
      "/id/kanal/perbankan/data-dan-statistik/statistik-perbankan-indonesia/Documents/Pages/Statistik-Perbankan-Indonesia---Desember-2023/STATISTIK%20PERBANKAN%20INDONESIA%20-%20DESEMBER%202023.pdf\n",
      "/id/kanal/perbankan/data-dan-statistik/statistik-perbankan-indonesia/Documents/Pages/Statistik-Perbankan-Indonesia---November-2023/STATISTIK%20PERBANKAN%20INDONESIA%20-%20NOVEMBER%202023.pdf\n",
      "/id/kanal/perbankan/data-dan-statistik/statistik-perbankan-indonesia/Documents/Pages/Statistik-Perbankan-Indonesia---Oktober-2023/STATISTIK%20PERBANKAN%20INDONESIA%20-%20OKTOBER%202023.pdf\n",
      "/id/kanal/perbankan/data-dan-statistik/statistik-perbankan-indonesia/Documents/Pages/Statistik-Perbankan-Indonesia---September-2023/STATISTIK%20PERBANKAN%20INDONESIA%20-%20SEPTEMBER%202023.pdf\n",
      "/id/kanal/perbankan/data-dan-statistik/statistik-perbankan-indonesia/Documents/Pages/Statistik-Perbankan-Indonesia---Desember-2023/STATISTIK%20PERBANKAN%20INDONESIA%20-%20DESEMBER%202023.pdf\n",
      "/id/kanal/perbankan/data-dan-statistik/statistik-perbankan-indonesia/Documents/Pages/Statistik-Perbankan-Indonesia---November-2023/STATISTIK%20PERBANKAN%20INDONESIA%20-%20NOVEMBER%202023.pdf\n",
      "/id/kanal/perbankan/data-dan-statistik/statistik-perbankan-indonesia/Documents/Pages/Statistik-Perbankan-Indonesia---Oktober-2023/STATISTIK%20PERBANKAN%20INDONESIA%20-%20OKTOBER%202023.pdf\n",
      "/id/kanal/perbankan/data-dan-statistik/statistik-perbankan-indonesia/Documents/Pages/Statistik-Perbankan-Indonesia---September-2023/STATISTIK%20PERBANKAN%20INDONESIA%20-%20SEPTEMBER%202023.pdf\n"
     ]
    }
   ],
   "source": [
    "url_main = \"https://ojk.go.id/id/kanal/perbankan/data-dan-statistik/statistik-perbankan-indonesia/default.aspx\"\n",
    "keyword = \"Statistik Perbankan Indonesia\"\n",
    "start_year = 2003\n",
    "end_year = 2023\n",
    "\n",
    "# jalanin functionnya\n",
    "report_links = get_report_links(url_main, keyword, start_year, end_year)\n",
    "\n",
    "#concat dengan link pdf\n",
    "pdf_links = []\n",
    "for report_link in report_links:\n",
    "    pdf_links.extend(get_pdf_link(report_link))\n",
    "\n",
    "for pdf_link in pdf_links:\n",
    "    print(pdf_link)"
   ]
  },
  {
   "cell_type": "code",
   "execution_count": 21,
   "metadata": {},
   "outputs": [
    {
     "name": "stdout",
     "output_type": "stream",
     "text": [
      "All links saved to all_report_links.csv\n"
     ]
    }
   ],
   "source": [
    "#save ke csv\n",
    "import csv\n",
    "\n",
    "def save_to_csv(pdf_links, filename='all_report_links.csv'):\n",
    "    with open(filename, mode='w', newline='') as file:\n",
    "        writer = csv.writer(file)\n",
    "        \n",
    "        writer.writerow(['Statistik Perbankan OJK 2003-2023'])\n",
    "        \n",
    "        for link in pdf_links:\n",
    "            writer.writerow([link])\n",
    "    \n",
    "    print(f'All links saved to {filename}')\n",
    "\n",
    "save_to_csv(pdf_links)"
   ]
  },
  {
   "cell_type": "code",
   "execution_count": null,
   "metadata": {},
   "outputs": [],
   "source": [
    "#unduh pdf dan baca halaman tertentu dari pdf"
   ]
  }
 ],
 "metadata": {
  "kernelspec": {
   "display_name": "Python 3",
   "language": "python",
   "name": "python3"
  },
  "language_info": {
   "codemirror_mode": {
    "name": "ipython",
    "version": 3
   },
   "file_extension": ".py",
   "mimetype": "text/x-python",
   "name": "python",
   "nbconvert_exporter": "python",
   "pygments_lexer": "ipython3",
   "version": "3.11.9"
  }
 },
 "nbformat": 4,
 "nbformat_minor": 2
}
