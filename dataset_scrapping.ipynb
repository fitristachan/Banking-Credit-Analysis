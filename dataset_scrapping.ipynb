{
 "cells": [
  {
   "cell_type": "code",
   "execution_count": 6,
   "metadata": {},
   "outputs": [],
   "source": [
    "#Import library\n",
    "import requests\n",
    "from bs4 import BeautifulSoup\n",
    "import io\n",
    "from PyPDF2 import PdfFileReader\n",
    "import numpy as np\n",
    "\n",
    "\n",
    "from selenium import webdriver\n",
    "from selenium.webdriver.common.by import By\n",
    "from selenium.webdriver.chrome.service import Service\n",
    "from selenium.webdriver.chrome.options import Options\n",
    "from selenium.webdriver.common.action_chains import ActionChains\n",
    "from selenium.webdriver.support.ui import WebDriverWait\n",
    "from selenium.webdriver.support import expected_conditions as EC\n",
    "import time"
   ]
  },
  {
   "cell_type": "code",
   "execution_count": 14,
   "metadata": {},
   "outputs": [],
   "source": [
    "# Setup WebDriver\n",
    "chrome_options = Options()\n",
    "chrome_options.add_argument(\"--headless\")  # Operasikan di background\n",
    "service = Service('F:/proyek/Banking Credit Analysis/chromedriver.exe')  # Path ke chromedriver\n",
    "driver = webdriver.Chrome(service=service, options=chrome_options)\n",
    "\n",
    "# link ke halaman laporan per bulan\n",
    "def get_report_links(url, keyword, start_year, end_year):\n",
    "    report_links = []\n",
    "    driver.get(url)\n",
    "\n",
    "    while True:\n",
    "        time.sleep(60)\n",
    "        # Paginasi\n",
    "        try:\n",
    "            # Ambil semua link laporan tahunan\n",
    "            a_tags = driver.find_elements(By.XPATH, \"//a[contains(text(), '{}')]\".format(keyword))\n",
    "            for a_tag in a_tags:\n",
    "                link_text = a_tag.text.strip()\n",
    "                for year in range(start_year, end_year + 1):\n",
    "                    if str(year) in link_text:\n",
    "                        href = a_tag.get_attribute('href')\n",
    "                        if href:\n",
    "                            report_links.append(href)\n",
    "\n",
    "            last_disabled_button = driver.find_element(By.XPATH, \"//span[@class='disabledbluebutton' and contains(text(), '10')]\")\n",
    "            if last_disabled_button:\n",
    "                ellipsis_button = driver.find_element(By.LINK_TEXT, '...')\n",
    "                ellipsis_button.click()\n",
    "            else: \n",
    "                for page_num in range(1, 11):\n",
    "                    next_button = driver.find_element(By.XPATH, f\"//a[@class='bluebutton' and contains(text(), {page_num+1})]\")\n",
    "                next_button.click()\n",
    "        \n",
    "        except:\n",
    "            break\n",
    "\n",
    "    return report_links\n",
    "\n",
    "# get link PDF dari halaman laporan bulanan\n",
    "def get_pdf_link(report_url):\n",
    "    pdf_links = []\n",
    "    driver.get(report_url)\n",
    "    time.sleep(60)\n",
    "\n",
    "    a_tags = driver.find_elements(By.XPATH, \"//a[contains(@href, '.pdf')]\")\n",
    "    for a_tag in a_tags:\n",
    "        pdf_link = a_tag.get_attribute('href')\n",
    "        if pdf_link:\n",
    "            pdf_links.append(pdf_link)\n",
    "\n",
    "    return pdf_links"
   ]
  },
  {
   "cell_type": "code",
   "execution_count": 15,
   "metadata": {},
   "outputs": [],
   "source": [
    "url_main = \"https://ojk.go.id/id/kanal/perbankan/data-dan-statistik/statistik-perbankan-indonesia/default.aspx\"\n",
    "keyword = \"Statistik Perbankan Indonesia\"\n",
    "start_year = 2003\n",
    "end_year = 2023\n",
    "\n",
    "# jalanin functionnya\n",
    "report_links = get_report_links(url_main, keyword, start_year, end_year)\n",
    "\n",
    "#concat dengan link pdf\n",
    "pdf_links = []\n",
    "for report_link in report_links:\n",
    "    pdf_links.extend(get_pdf_link(report_link))\n",
    "\n",
    "for pdf_link in pdf_links:\n",
    "    print(pdf_link)\n",
    "\n",
    "# Tutup WebDriver\n",
    "driver.quit()"
   ]
  },
  {
   "cell_type": "code",
   "execution_count": 11,
   "metadata": {},
   "outputs": [
    {
     "name": "stdout",
     "output_type": "stream",
     "text": [
      "All links saved to all_report_links.csv\n"
     ]
    }
   ],
   "source": [
    "#save ke csv\n",
    "import csv\n",
    "\n",
    "def save_to_csv(pdf_links, filename='all_report_links.csv'):\n",
    "    with open(filename, mode='w', newline='') as file:\n",
    "        writer = csv.writer(file)\n",
    "        \n",
    "        writer.writerow(['Statistik Perbankan OJK 2003-2023'])\n",
    "        \n",
    "        for link in pdf_links:\n",
    "            writer.writerow([link])\n",
    "    \n",
    "    print(f'All links saved to {filename}')\n",
    "\n",
    "save_to_csv(pdf_links)"
   ]
  },
  {
   "cell_type": "code",
   "execution_count": 5,
   "metadata": {},
   "outputs": [],
   "source": [
    "#unduh pdf dan baca halaman tertentu dari pdf"
   ]
  }
 ],
 "metadata": {
  "kernelspec": {
   "display_name": "Python 3",
   "language": "python",
   "name": "python3"
  },
  "language_info": {
   "codemirror_mode": {
    "name": "ipython",
    "version": 3
   },
   "file_extension": ".py",
   "mimetype": "text/x-python",
   "name": "python",
   "nbconvert_exporter": "python",
   "pygments_lexer": "ipython3",
   "version": "3.11.9"
  }
 },
 "nbformat": 4,
 "nbformat_minor": 2
}
